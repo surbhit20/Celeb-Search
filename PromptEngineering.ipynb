{
 "cells": [
  {
   "cell_type": "code",
   "execution_count": 9,
   "id": "fd43b18c",
   "metadata": {},
   "outputs": [],
   "source": [
    "import os\n",
    "os.environ[\"OPENAI_API_KEY\"] = \"\""
   ]
  },
  {
   "cell_type": "code",
   "execution_count": 10,
   "id": "752f3174",
   "metadata": {},
   "outputs": [
    {
     "data": {
      "text/plain": [
       "'I want you to act as an acting financial advisor for people.\\nIn an easy way, explain the basics of income tax.'"
      ]
     },
     "execution_count": 10,
     "metadata": {},
     "output_type": "execute_result"
    }
   ],
   "source": [
    "from langchain_core.prompts import PromptTemplate\n",
    "\n",
    "demo_template = '''I want you to act as an acting financial advisor for people.\n",
    "In an easy way, explain the basics of {financial_concept}.'''\n",
    "\n",
    "prompt=PromptTemplate(\n",
    "    input_variables=['financial_concept'],\n",
    "    template=demo_template)\n",
    "\n",
    "prompt.format(financial_concept='income tax')"
   ]
  },
  {
   "cell_type": "code",
   "execution_count": 11,
   "id": "a2a008a1",
   "metadata": {},
   "outputs": [],
   "source": [
    "from langchain_openai import ChatOpenAI\n",
    "from langchain.chains import LLMChain\n",
    "\n",
    "llm = ChatOpenAI(model='gpt-5', temperature=0.7)\n",
    "chain1 = LLMChain(llm=llm, prompt=prompt)"
   ]
  },
  {
   "cell_type": "code",
   "execution_count": 12,
   "id": "e494ee2f",
   "metadata": {},
   "outputs": [
    {
     "data": {
      "text/plain": [
       "'Happy to help. Tax rules vary a lot by country, so tell me where you live for tailored details. Below are the easy-to-grasp basics that apply in most places, with occasional U.S.-style examples for context.\\n\\nThe big picture\\n- Income tax is money you pay to the government on what you earn (from work, investments, business).\\n- Most systems are progressive: higher slices of your income are taxed at higher rates.\\n- You usually prepay during the year (through paycheck withholding or quarterly estimates). At filing time, you true-up: refund if you paid too much, balance due if you paid too little.\\n\\nWhat counts as income\\n- Earned income: salary, wages, tips, bonuses, freelance/business profits.\\n- Investment income: interest, dividends, capital gains (profit when you sell assets), rental income.\\n- Some items can be tax-free or partially taxed (varies by country), like certain benefits, scholarships, or retirement account withdrawals under specific rules.\\n\\nHow your tax is figured (simple flow)\\n1) Gross income: add up all income sources.\\n2) Adjustments/allowances: subtract certain permitted amounts (e.g., retirement contributions, specific allowances) to get adjusted income.\\n3) Deductions: subtract a standard deduction/allowance or itemize specific expenses (like mortgage interest, charitable gifts, some medical or business expenses). Result: taxable income.\\n4) Apply tax rates/brackets: each slice of income is taxed at its bracket rate. Only the top slice faces your highest “marginal” rate. Your overall “effective” rate is total tax divided by total income.\\n5) Credits: subtract eligible credits (they directly reduce tax due). Some are refundable (can create a refund), others are nonrefundable.\\n6) Payments and other taxes: add any extra taxes (e.g., certain social/health contributions, self-employment taxes), then subtract withholding and estimated payments to see refund or amount due.\\n\\nMarginal vs effective rate (why your last dollar matters)\\n- Example (made-up rates): first 10,000 taxed at 10%, next 20,000 at 20%, amounts above at 30%.\\n- If you earn 50,000, you don’t pay 30% on all of it—only on the part above the earlier brackets. Your average (effective) rate is lower than your top (marginal) rate.\\n\\nDeductions vs credits\\n- Deductions reduce the income that gets taxed. Typical examples: retirement account contributions, mortgage interest, qualifying business expenses, some education or medical costs.\\n- Credits reduce your tax bill dollar-for-dollar. Common ones: child/family credits, earned-income/work incentives, education credits, energy/home improvement credits, saver’s credit.\\n\\nWithholding and estimated taxes\\n- Employees have tax withheld from paychecks. If you consistently owe or get big refunds, adjust your payroll form to better match your situation (for the U.S., that’s the W-4; other countries have similar forms).\\n- Freelancers/business owners often must pay quarterly estimated taxes to avoid penalties.\\n\\nSelf-employed and small business basics\\n- You’re responsible for your own tax prepayments and for additional social/health contributions on net profit.\\n- Track revenue and expenses carefully; only net profit is taxed. Keep receipts and a mileage log if applicable.\\n\\nInvestments and capital gains\\n- Capital gains are taxed on the profit when you sell. Many systems tax long-term holdings (kept over a year) at lower rates than short-term trades.\\n- Dividends and interest can be taxed differently from wages. Some accounts (retirement or tax-advantaged) let money grow tax-deferred or tax-free if you follow the rules.\\n\\nFiling status and dependents\\n- Your status (single, married, head of household, etc.) affects brackets and deductions.\\n- Dependents (children or other qualifying relatives) can bring extra allowances or credits.\\n\\nDocuments you’ll usually need\\n- Employment income statements from your employer(s).\\n- Bank, brokerage, and crypto exchange statements (interest, dividends, trades).\\n- Records of deductible expenses and charitable gifts.\\n- Tuition/education and student loan interest statements.\\n- Business income/expense records if self-employed.\\n- Prior-year return for reference.\\n\\nDeadlines and refunds\\n- Tax returns are usually due once a year (often in the first half of the year). You can often request more time to file, but paying late can trigger penalties and interest.\\n- Refunds come when your prepayments exceed your final bill.\\n\\nCommon mistakes to avoid\\n- Not reporting side-hustle or cash income.\\n- Underpaying estimated taxes if self-employed.\\n- Throwing away receipts you could use for deductions.\\n- Missing credits because you assume you don’t qualify.\\n- Not updating withholding after life changes (marriage, new child, big raise, new job).\\n- Selling investments without tracking cost basis.\\n\\nSimple ways to lower taxes (legally)\\n- Contribute to retirement or tax-advantaged accounts.\\n- Use health/education savings accounts if available.\\n- “Bunch” deductions in one year (e.g., time charitable giving or medical procedures).\\n- Hold investments long enough to qualify for long-term capital gains rates.\\n- Harvest losses to offset gains (mind wash-sale or similar rules).\\n- Keep excellent records; good documentation is often the difference between deductible and non-deductible.\\n\\nWant this tailored to you?\\nTell me:\\n- Your country and state/province.\\n- Your filing status and dependents.\\n- Your main income sources (salary, freelance, investments).\\n- Whether you own a home, have student loans, or run a business.\\n- Any big upcoming changes (marriage, new baby, job change, selling property).\\nI can then give you country-specific rates, deadlines, and a checklist of actions to consider. This is general education, not individualized tax advice.'"
      ]
     },
     "execution_count": 12,
     "metadata": {},
     "output_type": "execute_result"
    }
   ],
   "source": [
    "chain1.run('income_tax')"
   ]
  },
  {
   "cell_type": "code",
   "execution_count": 15,
   "id": "5d41f8c4",
   "metadata": {},
   "outputs": [],
   "source": [
    "## Language Translation\n",
    "\n",
    "from langchain import PromptTemplate\n",
    "\n",
    "template = '''In an easy way translate the following sentence '{sentence}' into {target_language}.'''\n",
    "language_prompt = PromptTemplate(\n",
    "    input_variables=['sentence', 'target_language'],\n",
    "    template=template\n",
    ")"
   ]
  },
  {
   "cell_type": "code",
   "execution_count": 16,
   "id": "09086930",
   "metadata": {},
   "outputs": [
    {
     "data": {
      "text/plain": [
       "\"In an easy way translate the following sentence 'How are you?' into Hindi.\""
      ]
     },
     "execution_count": 16,
     "metadata": {},
     "output_type": "execute_result"
    }
   ],
   "source": [
    "language_prompt.format(sentence='How are you?', target_language='Hindi')"
   ]
  },
  {
   "cell_type": "code",
   "execution_count": 17,
   "id": "61f338ac",
   "metadata": {},
   "outputs": [
    {
     "name": "stderr",
     "output_type": "stream",
     "text": [
      "/var/folders/7n/5pzkp0l949lff2ysklbgb6xc0000gn/T/ipykernel_21935/2378156917.py:3: LangChainDeprecationWarning: The method `Chain.__call__` was deprecated in langchain 0.1.0 and will be removed in 1.0. Use :meth:`~invoke` instead.\n",
      "  chain2({'sentence':'Hello how are you', 'target_language':'Hindi'})\n"
     ]
    },
    {
     "data": {
      "text/plain": [
       "{'sentence': 'Hello how are you',\n",
       " 'target_language': 'Hindi',\n",
       " 'text': 'Hindi: नमस्ते, आप कैसे हैं?\\nPronunciation: Namaste, aap kaise hain?\\n\\n(Informal: हाय, कैसे हो? — Hai, kaise ho?)'}"
      ]
     },
     "execution_count": 17,
     "metadata": {},
     "output_type": "execute_result"
    }
   ],
   "source": [
    "chain2 = LLMChain(llm=llm, prompt=language_prompt)\n",
    "\n",
    "chain2({'sentence':'Hello how are you', 'target_language':'Hindi'})"
   ]
  },
  {
   "cell_type": "code",
   "execution_count": 18,
   "id": "6bea8393",
   "metadata": {},
   "outputs": [],
   "source": [
    "from langchain import PromptTemplate, FewShotPromptTemplate\n",
    "\n",
    "examples = [\n",
    "    {\"word\": \"happy\", \"antonym\": \"sad\"},\n",
    "    {\"word\": \"tall\", \"antonym\": \"short\"}\n",
    "]\n",
    "\n",
    "example_formatter_template = \"\"\"Word: {word}\n",
    "Antonym: {antonym}\n",
    "\"\"\"\n",
    "\n",
    "example_prompt = PromptTemplate(\n",
    "    input_variables=[\"word\", \"antonym\"],\n",
    "    template=example_formatter_template\n",
    ")"
   ]
  },
  {
   "cell_type": "code",
   "execution_count": 19,
   "id": "8d931cd8",
   "metadata": {},
   "outputs": [],
   "source": [
    "few_shot_prompt = FewShotPromptTemplate(\n",
    "    examples=examples,\n",
    "    example_prompt=example_prompt,\n",
    "    prefix='Give the antonym of every input\\n',\n",
    "    suffix=\"Word: {input}\\nAntonym: \",\n",
    "    input_variables=['input'],\n",
    "    example_separator='\\n',\n",
    ")"
   ]
  },
  {
   "cell_type": "code",
   "execution_count": 20,
   "id": "520890d7",
   "metadata": {},
   "outputs": [
    {
     "name": "stdout",
     "output_type": "stream",
     "text": [
      "Give the antonym of every input\n",
      "\n",
      "Word: happy\n",
      "Antonym: sad\n",
      "\n",
      "Word: tall\n",
      "Antonym: short\n",
      "\n",
      "Word: Big\n",
      "Antonym: \n"
     ]
    }
   ],
   "source": [
    "print(few_shot_prompt.format(input=\"Big\"))"
   ]
  },
  {
   "cell_type": "code",
   "execution_count": 23,
   "id": "7e9d35bf",
   "metadata": {},
   "outputs": [
    {
     "data": {
      "text/plain": [
       "'Word: big\\nAntonym: small'"
      ]
     },
     "execution_count": 23,
     "metadata": {},
     "output_type": "execute_result"
    }
   ],
   "source": [
    "chain = LLMChain(llm=llm, prompt=few_shot_prompt)\n",
    "chain.run(\"big\")\n",
    "#chain({'input':'big'})"
   ]
  }
 ],
 "metadata": {
  "kernelspec": {
   "display_name": "lcenv",
   "language": "python",
   "name": "python3"
  },
  "language_info": {
   "codemirror_mode": {
    "name": "ipython",
    "version": 3
   },
   "file_extension": ".py",
   "mimetype": "text/x-python",
   "name": "python",
   "nbconvert_exporter": "python",
   "pygments_lexer": "ipython3",
   "version": "3.9.12"
  }
 },
 "nbformat": 4,
 "nbformat_minor": 5
}
