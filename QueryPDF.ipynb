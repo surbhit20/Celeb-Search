{
  "cells": [
    {
      "cell_type": "code",
      "execution_count": 12,
      "metadata": {
        "colab": {
          "base_uri": "https://localhost:8080/"
        },
        "id": "3eRTxi8KsYOd",
        "outputId": "a4f562c5-1428-4d46-e347-9994b2baeef0"
      },
      "outputs": [
        {
          "name": "stdout",
          "output_type": "stream",
          "text": [
            "Requirement already satisfied: langchain in /usr/local/lib/python3.12/dist-packages (0.3.27)\n",
            "Requirement already satisfied: langchain-core<1.0.0,>=0.3.72 in /usr/local/lib/python3.12/dist-packages (from langchain) (0.3.75)\n",
            "Requirement already satisfied: langchain-text-splitters<1.0.0,>=0.3.9 in /usr/local/lib/python3.12/dist-packages (from langchain) (0.3.11)\n",
            "Requirement already satisfied: langsmith>=0.1.17 in /usr/local/lib/python3.12/dist-packages (from langchain) (0.4.27)\n",
            "Requirement already satisfied: pydantic<3.0.0,>=2.7.4 in /usr/local/lib/python3.12/dist-packages (from langchain) (2.11.7)\n",
            "Requirement already satisfied: SQLAlchemy<3,>=1.4 in /usr/local/lib/python3.12/dist-packages (from langchain) (2.0.43)\n",
            "Requirement already satisfied: requests<3,>=2 in /usr/local/lib/python3.12/dist-packages (from langchain) (2.32.5)\n",
            "Requirement already satisfied: PyYAML>=5.3 in /usr/local/lib/python3.12/dist-packages (from langchain) (6.0.2)\n",
            "Requirement already satisfied: tenacity!=8.4.0,<10.0.0,>=8.1.0 in /usr/local/lib/python3.12/dist-packages (from langchain-core<1.0.0,>=0.3.72->langchain) (8.5.0)\n",
            "Requirement already satisfied: jsonpatch<2.0,>=1.33 in /usr/local/lib/python3.12/dist-packages (from langchain-core<1.0.0,>=0.3.72->langchain) (1.33)\n",
            "Requirement already satisfied: typing-extensions>=4.7 in /usr/local/lib/python3.12/dist-packages (from langchain-core<1.0.0,>=0.3.72->langchain) (4.15.0)\n",
            "Requirement already satisfied: packaging>=23.2 in /usr/local/lib/python3.12/dist-packages (from langchain-core<1.0.0,>=0.3.72->langchain) (25.0)\n",
            "Requirement already satisfied: httpx<1,>=0.23.0 in /usr/local/lib/python3.12/dist-packages (from langsmith>=0.1.17->langchain) (0.28.1)\n",
            "Requirement already satisfied: orjson>=3.9.14 in /usr/local/lib/python3.12/dist-packages (from langsmith>=0.1.17->langchain) (3.11.3)\n",
            "Requirement already satisfied: requests-toolbelt>=1.0.0 in /usr/local/lib/python3.12/dist-packages (from langsmith>=0.1.17->langchain) (1.0.0)\n",
            "Requirement already satisfied: zstandard>=0.23.0 in /usr/local/lib/python3.12/dist-packages (from langsmith>=0.1.17->langchain) (0.24.0)\n",
            "Requirement already satisfied: annotated-types>=0.6.0 in /usr/local/lib/python3.12/dist-packages (from pydantic<3.0.0,>=2.7.4->langchain) (0.7.0)\n",
            "Requirement already satisfied: pydantic-core==2.33.2 in /usr/local/lib/python3.12/dist-packages (from pydantic<3.0.0,>=2.7.4->langchain) (2.33.2)\n",
            "Requirement already satisfied: typing-inspection>=0.4.0 in /usr/local/lib/python3.12/dist-packages (from pydantic<3.0.0,>=2.7.4->langchain) (0.4.1)\n",
            "Requirement already satisfied: charset_normalizer<4,>=2 in /usr/local/lib/python3.12/dist-packages (from requests<3,>=2->langchain) (3.4.3)\n",
            "Requirement already satisfied: idna<4,>=2.5 in /usr/local/lib/python3.12/dist-packages (from requests<3,>=2->langchain) (3.10)\n",
            "Requirement already satisfied: urllib3<3,>=1.21.1 in /usr/local/lib/python3.12/dist-packages (from requests<3,>=2->langchain) (2.5.0)\n",
            "Requirement already satisfied: certifi>=2017.4.17 in /usr/local/lib/python3.12/dist-packages (from requests<3,>=2->langchain) (2025.8.3)\n",
            "Requirement already satisfied: greenlet>=1 in /usr/local/lib/python3.12/dist-packages (from SQLAlchemy<3,>=1.4->langchain) (3.2.4)\n",
            "Requirement already satisfied: anyio in /usr/local/lib/python3.12/dist-packages (from httpx<1,>=0.23.0->langsmith>=0.1.17->langchain) (4.10.0)\n",
            "Requirement already satisfied: httpcore==1.* in /usr/local/lib/python3.12/dist-packages (from httpx<1,>=0.23.0->langsmith>=0.1.17->langchain) (1.0.9)\n",
            "Requirement already satisfied: h11>=0.16 in /usr/local/lib/python3.12/dist-packages (from httpcore==1.*->httpx<1,>=0.23.0->langsmith>=0.1.17->langchain) (0.16.0)\n",
            "Requirement already satisfied: jsonpointer>=1.9 in /usr/local/lib/python3.12/dist-packages (from jsonpatch<2.0,>=1.33->langchain-core<1.0.0,>=0.3.72->langchain) (3.0.0)\n",
            "Requirement already satisfied: sniffio>=1.1 in /usr/local/lib/python3.12/dist-packages (from anyio->httpx<1,>=0.23.0->langsmith>=0.1.17->langchain) (1.3.1)\n",
            "Requirement already satisfied: openai in /usr/local/lib/python3.12/dist-packages (1.107.0)\n",
            "Requirement already satisfied: anyio<5,>=3.5.0 in /usr/local/lib/python3.12/dist-packages (from openai) (4.10.0)\n",
            "Requirement already satisfied: distro<2,>=1.7.0 in /usr/local/lib/python3.12/dist-packages (from openai) (1.9.0)\n",
            "Requirement already satisfied: httpx<1,>=0.23.0 in /usr/local/lib/python3.12/dist-packages (from openai) (0.28.1)\n",
            "Requirement already satisfied: jiter<1,>=0.4.0 in /usr/local/lib/python3.12/dist-packages (from openai) (0.10.0)\n",
            "Requirement already satisfied: pydantic<3,>=1.9.0 in /usr/local/lib/python3.12/dist-packages (from openai) (2.11.7)\n",
            "Requirement already satisfied: sniffio in /usr/local/lib/python3.12/dist-packages (from openai) (1.3.1)\n",
            "Requirement already satisfied: tqdm>4 in /usr/local/lib/python3.12/dist-packages (from openai) (4.67.1)\n",
            "Requirement already satisfied: typing-extensions<5,>=4.11 in /usr/local/lib/python3.12/dist-packages (from openai) (4.15.0)\n",
            "Requirement already satisfied: idna>=2.8 in /usr/local/lib/python3.12/dist-packages (from anyio<5,>=3.5.0->openai) (3.10)\n",
            "Requirement already satisfied: certifi in /usr/local/lib/python3.12/dist-packages (from httpx<1,>=0.23.0->openai) (2025.8.3)\n",
            "Requirement already satisfied: httpcore==1.* in /usr/local/lib/python3.12/dist-packages (from httpx<1,>=0.23.0->openai) (1.0.9)\n",
            "Requirement already satisfied: h11>=0.16 in /usr/local/lib/python3.12/dist-packages (from httpcore==1.*->httpx<1,>=0.23.0->openai) (0.16.0)\n",
            "Requirement already satisfied: annotated-types>=0.6.0 in /usr/local/lib/python3.12/dist-packages (from pydantic<3,>=1.9.0->openai) (0.7.0)\n",
            "Requirement already satisfied: pydantic-core==2.33.2 in /usr/local/lib/python3.12/dist-packages (from pydantic<3,>=1.9.0->openai) (2.33.2)\n",
            "Requirement already satisfied: typing-inspection>=0.4.0 in /usr/local/lib/python3.12/dist-packages (from pydantic<3,>=1.9.0->openai) (0.4.1)\n",
            "Requirement already satisfied: PyPDF2 in /usr/local/lib/python3.12/dist-packages (3.0.1)\n",
            "Requirement already satisfied: faiss-cpu in /usr/local/lib/python3.12/dist-packages (1.12.0)\n",
            "Requirement already satisfied: numpy<3.0,>=1.25.0 in /usr/local/lib/python3.12/dist-packages (from faiss-cpu) (2.0.2)\n",
            "Requirement already satisfied: packaging in /usr/local/lib/python3.12/dist-packages (from faiss-cpu) (25.0)\n",
            "Requirement already satisfied: tiktoken in /usr/local/lib/python3.12/dist-packages (0.11.0)\n",
            "Requirement already satisfied: regex>=2022.1.18 in /usr/local/lib/python3.12/dist-packages (from tiktoken) (2024.11.6)\n",
            "Requirement already satisfied: requests>=2.26.0 in /usr/local/lib/python3.12/dist-packages (from tiktoken) (2.32.5)\n",
            "Requirement already satisfied: charset_normalizer<4,>=2 in /usr/local/lib/python3.12/dist-packages (from requests>=2.26.0->tiktoken) (3.4.3)\n",
            "Requirement already satisfied: idna<4,>=2.5 in /usr/local/lib/python3.12/dist-packages (from requests>=2.26.0->tiktoken) (3.10)\n",
            "Requirement already satisfied: urllib3<3,>=1.21.1 in /usr/local/lib/python3.12/dist-packages (from requests>=2.26.0->tiktoken) (2.5.0)\n",
            "Requirement already satisfied: certifi>=2017.4.17 in /usr/local/lib/python3.12/dist-packages (from requests>=2.26.0->tiktoken) (2025.8.3)\n",
            "Requirement already satisfied: langchain-community in /usr/local/lib/python3.12/dist-packages (0.3.29)\n",
            "Requirement already satisfied: langchain-core<2.0.0,>=0.3.75 in /usr/local/lib/python3.12/dist-packages (from langchain-community) (0.3.75)\n",
            "Requirement already satisfied: langchain<2.0.0,>=0.3.27 in /usr/local/lib/python3.12/dist-packages (from langchain-community) (0.3.27)\n",
            "Requirement already satisfied: SQLAlchemy<3,>=1.4 in /usr/local/lib/python3.12/dist-packages (from langchain-community) (2.0.43)\n",
            "Requirement already satisfied: requests<3,>=2.32.5 in /usr/local/lib/python3.12/dist-packages (from langchain-community) (2.32.5)\n",
            "Requirement already satisfied: PyYAML>=5.3 in /usr/local/lib/python3.12/dist-packages (from langchain-community) (6.0.2)\n",
            "Requirement already satisfied: aiohttp<4.0.0,>=3.8.3 in /usr/local/lib/python3.12/dist-packages (from langchain-community) (3.12.15)\n",
            "Requirement already satisfied: tenacity!=8.4.0,<10,>=8.1.0 in /usr/local/lib/python3.12/dist-packages (from langchain-community) (8.5.0)\n",
            "Requirement already satisfied: dataclasses-json<0.7,>=0.6.7 in /usr/local/lib/python3.12/dist-packages (from langchain-community) (0.6.7)\n",
            "Requirement already satisfied: pydantic-settings<3.0.0,>=2.10.1 in /usr/local/lib/python3.12/dist-packages (from langchain-community) (2.10.1)\n",
            "Requirement already satisfied: langsmith>=0.1.125 in /usr/local/lib/python3.12/dist-packages (from langchain-community) (0.4.27)\n",
            "Requirement already satisfied: httpx-sse<1.0.0,>=0.4.0 in /usr/local/lib/python3.12/dist-packages (from langchain-community) (0.4.1)\n",
            "Requirement already satisfied: numpy>=1.26.2 in /usr/local/lib/python3.12/dist-packages (from langchain-community) (2.0.2)\n",
            "Requirement already satisfied: aiohappyeyeballs>=2.5.0 in /usr/local/lib/python3.12/dist-packages (from aiohttp<4.0.0,>=3.8.3->langchain-community) (2.6.1)\n",
            "Requirement already satisfied: aiosignal>=1.4.0 in /usr/local/lib/python3.12/dist-packages (from aiohttp<4.0.0,>=3.8.3->langchain-community) (1.4.0)\n",
            "Requirement already satisfied: attrs>=17.3.0 in /usr/local/lib/python3.12/dist-packages (from aiohttp<4.0.0,>=3.8.3->langchain-community) (25.3.0)\n",
            "Requirement already satisfied: frozenlist>=1.1.1 in /usr/local/lib/python3.12/dist-packages (from aiohttp<4.0.0,>=3.8.3->langchain-community) (1.7.0)\n",
            "Requirement already satisfied: multidict<7.0,>=4.5 in /usr/local/lib/python3.12/dist-packages (from aiohttp<4.0.0,>=3.8.3->langchain-community) (6.6.4)\n",
            "Requirement already satisfied: propcache>=0.2.0 in /usr/local/lib/python3.12/dist-packages (from aiohttp<4.0.0,>=3.8.3->langchain-community) (0.3.2)\n",
            "Requirement already satisfied: yarl<2.0,>=1.17.0 in /usr/local/lib/python3.12/dist-packages (from aiohttp<4.0.0,>=3.8.3->langchain-community) (1.20.1)\n",
            "Requirement already satisfied: marshmallow<4.0.0,>=3.18.0 in /usr/local/lib/python3.12/dist-packages (from dataclasses-json<0.7,>=0.6.7->langchain-community) (3.26.1)\n",
            "Requirement already satisfied: typing-inspect<1,>=0.4.0 in /usr/local/lib/python3.12/dist-packages (from dataclasses-json<0.7,>=0.6.7->langchain-community) (0.9.0)\n",
            "Requirement already satisfied: langchain-text-splitters<1.0.0,>=0.3.9 in /usr/local/lib/python3.12/dist-packages (from langchain<2.0.0,>=0.3.27->langchain-community) (0.3.11)\n",
            "Requirement already satisfied: pydantic<3.0.0,>=2.7.4 in /usr/local/lib/python3.12/dist-packages (from langchain<2.0.0,>=0.3.27->langchain-community) (2.11.7)\n",
            "Requirement already satisfied: jsonpatch<2.0,>=1.33 in /usr/local/lib/python3.12/dist-packages (from langchain-core<2.0.0,>=0.3.75->langchain-community) (1.33)\n",
            "Requirement already satisfied: typing-extensions>=4.7 in /usr/local/lib/python3.12/dist-packages (from langchain-core<2.0.0,>=0.3.75->langchain-community) (4.15.0)\n",
            "Requirement already satisfied: packaging>=23.2 in /usr/local/lib/python3.12/dist-packages (from langchain-core<2.0.0,>=0.3.75->langchain-community) (25.0)\n",
            "Requirement already satisfied: httpx<1,>=0.23.0 in /usr/local/lib/python3.12/dist-packages (from langsmith>=0.1.125->langchain-community) (0.28.1)\n",
            "Requirement already satisfied: orjson>=3.9.14 in /usr/local/lib/python3.12/dist-packages (from langsmith>=0.1.125->langchain-community) (3.11.3)\n",
            "Requirement already satisfied: requests-toolbelt>=1.0.0 in /usr/local/lib/python3.12/dist-packages (from langsmith>=0.1.125->langchain-community) (1.0.0)\n",
            "Requirement already satisfied: zstandard>=0.23.0 in /usr/local/lib/python3.12/dist-packages (from langsmith>=0.1.125->langchain-community) (0.24.0)\n",
            "Requirement already satisfied: python-dotenv>=0.21.0 in /usr/local/lib/python3.12/dist-packages (from pydantic-settings<3.0.0,>=2.10.1->langchain-community) (1.1.1)\n",
            "Requirement already satisfied: typing-inspection>=0.4.0 in /usr/local/lib/python3.12/dist-packages (from pydantic-settings<3.0.0,>=2.10.1->langchain-community) (0.4.1)\n",
            "Requirement already satisfied: charset_normalizer<4,>=2 in /usr/local/lib/python3.12/dist-packages (from requests<3,>=2.32.5->langchain-community) (3.4.3)\n",
            "Requirement already satisfied: idna<4,>=2.5 in /usr/local/lib/python3.12/dist-packages (from requests<3,>=2.32.5->langchain-community) (3.10)\n",
            "Requirement already satisfied: urllib3<3,>=1.21.1 in /usr/local/lib/python3.12/dist-packages (from requests<3,>=2.32.5->langchain-community) (2.5.0)\n",
            "Requirement already satisfied: certifi>=2017.4.17 in /usr/local/lib/python3.12/dist-packages (from requests<3,>=2.32.5->langchain-community) (2025.8.3)\n",
            "Requirement already satisfied: greenlet>=1 in /usr/local/lib/python3.12/dist-packages (from SQLAlchemy<3,>=1.4->langchain-community) (3.2.4)\n",
            "Requirement already satisfied: anyio in /usr/local/lib/python3.12/dist-packages (from httpx<1,>=0.23.0->langsmith>=0.1.125->langchain-community) (4.10.0)\n",
            "Requirement already satisfied: httpcore==1.* in /usr/local/lib/python3.12/dist-packages (from httpx<1,>=0.23.0->langsmith>=0.1.125->langchain-community) (1.0.9)\n",
            "Requirement already satisfied: h11>=0.16 in /usr/local/lib/python3.12/dist-packages (from httpcore==1.*->httpx<1,>=0.23.0->langsmith>=0.1.125->langchain-community) (0.16.0)\n",
            "Requirement already satisfied: jsonpointer>=1.9 in /usr/local/lib/python3.12/dist-packages (from jsonpatch<2.0,>=1.33->langchain-core<2.0.0,>=0.3.75->langchain-community) (3.0.0)\n",
            "Requirement already satisfied: annotated-types>=0.6.0 in /usr/local/lib/python3.12/dist-packages (from pydantic<3.0.0,>=2.7.4->langchain<2.0.0,>=0.3.27->langchain-community) (0.7.0)\n",
            "Requirement already satisfied: pydantic-core==2.33.2 in /usr/local/lib/python3.12/dist-packages (from pydantic<3.0.0,>=2.7.4->langchain<2.0.0,>=0.3.27->langchain-community) (2.33.2)\n",
            "Requirement already satisfied: mypy-extensions>=0.3.0 in /usr/local/lib/python3.12/dist-packages (from typing-inspect<1,>=0.4.0->dataclasses-json<0.7,>=0.6.7->langchain-community) (1.1.0)\n",
            "Requirement already satisfied: sniffio>=1.1 in /usr/local/lib/python3.12/dist-packages (from anyio->httpx<1,>=0.23.0->langsmith>=0.1.125->langchain-community) (1.3.1)\n"
          ]
        }
      ],
      "source": [
        "!pip install langchain\n",
        "!pip install openai\n",
        "!pip install PyPDF2\n",
        "!pip install faiss-cpu\n",
        "!pip install tiktoken\n",
        "!pip install langchain-community"
      ]
    },
    {
      "cell_type": "code",
      "execution_count": 25,
      "metadata": {
        "id": "26MtpaXe-hjf"
      },
      "outputs": [],
      "source": [
        "from PyPDF2 import PdfReader\n",
        "from langchain.embeddings.openai import OpenAIEmbeddings\n",
        "from langchain.text_splitter import CharacterTextSplitter\n",
        "from langchain.vectorstores import FAISS"
      ]
    },
    {
      "cell_type": "code",
      "execution_count": 26,
      "metadata": {
        "id": "QiDm8Ey6BwRQ"
      },
      "outputs": [],
      "source": [
        "import os\n",
        "os.environ[\"OPENAI_API_KEY\"] = \"\""
      ]
    },
    {
      "cell_type": "code",
      "execution_count": 27,
      "metadata": {
        "id": "jx7TN-q_GpDy"
      },
      "outputs": [],
      "source": [
        "pdfreader = PdfReader('Surbhit_Pratik_resume.pdf')"
      ]
    },
    {
      "cell_type": "code",
      "execution_count": 28,
      "metadata": {
        "id": "q-zz7tabG1i1"
      },
      "outputs": [],
      "source": [
        "from typing_extensions import Concatenate\n",
        "\n",
        "raw_text = ''\n",
        "for i, page in enumerate(pdfreader.pages):\n",
        "  content = page.extract_text()\n",
        "  if content:\n",
        "    raw_text += content"
      ]
    },
    {
      "cell_type": "code",
      "execution_count": 29,
      "metadata": {
        "colab": {
          "base_uri": "https://localhost:8080/",
          "height": 137
        },
        "id": "hLJ9JpEMHk4e",
        "outputId": "55693394-be0b-493e-b833-75bff9f59a23"
      },
      "outputs": [
        {
          "data": {
            "application/vnd.google.colaboratory.intrinsic+json": {
              "type": "string"
            },
            "text/plain": [
              "\"SURBHIT PRATIK\\n Los Angeles, CA | (213) 505-8687 | spratik@usc.edu | linkedin.com/in/surbhit-pratik  |  github.com/surbhit20  EDUCATION \\nUniversity\\n \\nof\\n \\nSouthern\\n \\nCalifornia\\n \\nLos\\n \\nAngeles,\\n \\nCA\\n \\nMaster\\n \\nof\\n \\nScience\\n \\n(Major:\\n \\nComputer\\n \\nScience)\\n \\nJanuary\\n \\n2024\\n \\n-\\n \\nDecember\\n \\n2025\\n Coursework: Artificial Intelligence, Machine Learning, Deep Learning, Analysis of Algorithms, Information Retrieval, Databases \\nSRM\\n \\nInstitute\\n \\nof\\n \\nScience\\n \\n&\\n \\nTechnology\\n \\nChennai,\\n \\nIndia\\n \\nBachelor\\n \\nof\\n \\nTechnology\\n \\n(Major:\\n \\nComputer\\n \\nScience,\\n \\nMinor:\\n \\nSoftware\\n \\nEngineering)\\n \\nJuly\\n \\n2019\\n \\n-\\n \\nJune\\n \\n2023\\n Coursework: Computer Architecture, Operating Systems, Compiler Design, Software Engineering, Software Quality Assurance \\nSKILLS Programming Languages & Web Development: Python, C/C++, SQL, C#, JavaScript, Node.js, Django, FastAPI, Streamlit, ASP.NET Tools & Technologies: AWS (EC2, IAM, DynamoDB), Docker, Kubernetes, Git, Hadoop, Spark, MongoDB, PostgreSQL, JIRA, PowerBI ML Stack: PyTorch, TensorFlow, Keras, HuggingFace, LangChain, LlamaIndex, Scikit-learn, XGBoost, Seaborn, Matplotlib, OpenCV  PROFESSIONAL EXPERIENCE \\nAMPHENOL\\n \\nADVANCED\\n \\nSENSORS\\n \\nSaint\\n \\nMarys,\\n \\nPA\\n \\nSoftware\\n \\nEngineering\\n \\nIntern\\n \\nMay\\n \\n2025\\n \\n-\\n \\nAugust\\n \\n2025\\n \\n●\\n \\nBuilt\\n \\nand\\n \\npresented\\n \\na\\n \\nC#\\n \\nWindows\\n \\nForms\\n \\ndashboard\\n \\nto\\n \\nvisualize\\n \\nand\\n \\nanalyze\\n \\nresults\\n \\nfrom\\n \\nCalibration,\\n \\nScreening,\\n \\nFunctional,\\n \\nand\\n \\nEnd-of-Line\\n \\ntests\\n,\\n \\nleveraging\\n \\nSQL\\n \\nServer\\n \\nto\\n \\nenable\\n \\nroot\\n \\ncause\\n \\nanalysis\\n \\nand\\n \\nsignificantly\\n \\nreduce\\n \\nmanual\\n \\ndiagnostic\\n \\nefforts\\n \\n●\\n \\nImplemented\\n \\na\\n \\nPython\\n \\nwebhook\\n \\nusing\\n \\nthe\\n \\nFlask\\n \\nframework\\n \\nto\\n \\nautomatically\\n \\ngenerate\\n \\na\\n \\nunified\\n \\nproject\\n \\nnaming\\n \\nstructure\\n \\nacross\\n \\nJira\\n \\nand\\n \\nGitHub\\n,\\n \\nimproving\\n \\ntraceability,\\n \\nreducing\\n \\nmanual\\n \\nerrors,\\n \\nand\\n \\ncutting\\n \\nproject\\n \\nsetup\\n \\ntime\\n \\nby\\n \\n30%+\\n \\n●\\n \\nDeveloped\\n \\na\\n \\nFlask-based\\n \\ndashboard\\n \\nfor\\n \\ngenerating\\n \\nSample\\n \\nComponents\\n \\nand\\n \\nSample\\n \\nAssemblies\\n \\n(AX/XA)\\n \\nto\\n \\nreplace\\n \\nan\\n \\nExcel-based\\n \\ntracking\\n \\nsystem,\\n \\nimproving\\n \\naccessibility,\\n \\nreducing\\n \\nmanual\\n \\nquoting\\n \\nerrors\\n \\nby\\n \\n23%\\n,\\n \\nand\\n \\naccelerating\\n \\ndata\\n \\nretrieval\\n \\nHIGHRADIUS\\n \\nCORPORATION\\n \\nRemote\\n \\nSoftware\\n \\nDeveloper\\n \\nIntern\\n \\nJanuary\\n \\n2022\\n \\n-\\n \\nApril\\n \\n2022\\n \\n●\\n \\nStreamlined\\n \\ndata\\n \\naccess\\n \\nand\\n \\nimproved\\n \\nuser\\n \\nexperience\\n \\nby\\n \\ndesigning\\n \\na\\n \\nReact-based\\n \\nUI\\n \\nwith\\n \\nbackend\\n \\nconnectivity\\n \\nthrough\\n \\nJDBC\\n,\\n \\nachieving\\n \\na\\n \\n22.66%\\n \\nimprovement\\n \\nin\\n \\ndata\\n \\nretrieval\\n \\nspeed\\n \\nand\\n \\nenhancing\\n \\noverall\\n \\nsystem\\n \\nperformance,\\n \\nwhile\\n \\nalso\\n \\nimplementing\\n \\nagile\\n \\nmethodologies\\n \\nthat\\n \\nincreased\\n \\nteam\\n \\ncollaboration\\n \\nby\\n \\n20.8%\\n \\nand\\n \\nproject\\n \\nefficiency\\n \\nby\\n \\n8.4%\\n \\n●\\n \\nDeveloped\\n \\npredictive\\n \\nAI\\n \\nmodels\\n \\non\\n \\ntransactional\\n \\ndata\\n \\nusing\\n \\nRandom\\n \\nForest\\n \\nand\\n \\nGradient\\n \\nBoosting\\n,\\n \\nleveraging\\n \\nbootstrapping\\n \\nto\\n \\nimprove\\n \\nforecasting\\n \\naccuracy\\n \\nand\\n \\na\\n \\n14.3%\\n \\nreduction\\n \\nin\\n \\nloan\\n \\nrepayment\\n \\ndiscrepancie\\ns\\n,\\n \\nincreasing\\n \\nreliability\\n \\nof\\n \\nfinancial\\n \\nsystems\\n \\nCOAL\\n \\nINDIA\\n \\nLTD\\n \\nRanchi,\\n \\nIndia\\n \\nSoftware\\n \\nDeveloper\\n \\nIntern\\n \\nSeptember\\n \\n2021\\n \\n-\\n \\nOctober\\n \\n2021\\n \\n●\\n \\nArchitected\\n \\na\\n \\nrobust\\n \\nbackend\\n \\nutilizing\\n \\nMVC\\n \\narchitecture\\n \\nthrough\\n \\nPython's\\n \\nDjango\\n \\nframework\\n \\nand\\n \\nPostgreSQL\\n,\\n \\nensuring\\n \\nefficient\\n \\ndata\\n \\nmanagement\\n \\nand\\n \\nsecure\\n \\nhandling\\n \\nof\\n \\nover\\n \\n3,230\\n \\nemployee\\n \\nbooking\\n \\nrecords,\\n \\nimproving\\n \\nscalability\\n \\nand\\n \\nsystem\\n \\nperformance\\n \\n●\\n \\nEngineered\\n \\nand\\n \\ndeployed\\n \\nan\\n \\naccommodation\\n \\nsearch\\n \\napplication\\n \\nfor\\n \\ncompany\\n \\nemployees\\n \\nwith\\n \\nan\\n \\nimmersive\\n \\nHTML\\n,\\n \\nCSS\\n,\\n \\nand\\n \\nJavaScript\\n \\nfrontend,\\n \\nsignificantly\\n \\nreducing\\n \\nbooking\\n \\ntime\\n \\nby\\n \\n17%\\n,\\n \\nleading\\n \\nto\\n \\nincreased\\n \\nefficiency\\n \\nand\\n \\nuser\\n \\nsatisfaction\\n \\noverall \\n  ACADEMIC PROJECTS Low Latency Stock Trading Portal \\n●\\n \\nCreated\\n \\na\\n \\nstock\\n \\ntrading\\n \\napplication\\n \\nwith\\n \\ntwo\\n \\nversions:\\n \\na\\n \\nweb\\n \\nversion\\n \\nusing\\n \\nNode.js\\n \\nand\\n \\nReact\\n,\\n \\nand\\n \\na\\n \\nmobile\\n \\nversion\\n \\nin\\n \\nJava\\n \\n(Android)\\n,\\n \\nwith\\n \\nover\\n \\n2,000\\n \\nactive\\n \\nusers\\n \\n●\\n \\nDelivered\\n \\na\\n \\nsecurity\\n \\nframework\\n \\nusing\\n \\nHTTPS\\n \\nand\\n \\nJWT\\n,\\n \\nwhile\\n \\ndeploying\\n \\non\\n \\nGoogle\\n \\nCloud\\n \\nto\\n \\nhandle\\n \\n10,000+\\n \\nrequests\\n \\nper\\n \\nminute,\\n \\nutilized\\n \\nWebSockets\\n \\nfor\\n \\nreal-time\\n \\ndata\\n \\nupdates,\\n \\nimproving\\n \\ndata\\n \\nretrieval\\n \\nspeeds\\n \\nto\\n \\nmilliseconds\\n Probabilistic Machine Learning RAG System \\n●\\n \\nBuilt\\n \\na\\n \\nRetrieval-Augmented\\n \\nGeneration\\n \\n(RAG)\\n \\nmodel\\n \\nusing\\n \\nLlama\\n \\n3.2\\n \\nas\\n \\nthe\\n \\nbase\\n \\nLLM,\\n \\nenabling\\n \\nusers\\n \\nto\\n \\nexplore\\n \\nprobabilistic\\n \\nmachine\\n \\nlearning\\n \\nconcepts\\n \\nby\\n \\nleveraging\\n \\nstructured\\n \\ncontent\\n \\nparsed\\n \\nfrom\\n \\nover\\n \\n50\\n \\ntechnical\\n \\nPDFs\\n \\nseamlessly\\n \\n●\\n \\nDeveloped\\n \\nand\\n \\ndeployed\\n \\nan\\n \\ninteractive\\n \\nStreamlit\\n \\napplication,\\n \\nleveraging\\n \\nLlamaIndex\\n,\\n \\nLlamaParser\\n,\\n \\nand\\n \\nPinecone\\n \\nto\\n \\nefficiently\\n \\nstore\\n \\nand\\n \\nretrieve\\n \\nembeddings,\\n \\nenabling\\n \\nseamless\\n \\ninteraction\\n \\nwith\\n \\nan\\n \\naverage\\n \\nquery\\n \\nresponse\\n \\ntime\\n \\nunder\\n \\n3\\n \\nseconds\\n LLM-TextGuard: Advanced Detection of AI-Generated Texts \\n●\\n \\nDeveloped\\n \\na\\n \\nmachine\\n \\nlearning\\n \\nframework\\n \\ncombining\\n \\nclassical\\n \\ntext\\n \\nanalysis\\n \\n(\\nBag\\n \\nof\\n \\nWords\\n,\\n \\nTF-IDF\\n,\\n \\nN-grams\\n)\\n \\nand\\n \\nadvanced\\n \\nmodels\\n \\n(\\nSVM\\n,\\n \\nRandom\\n \\nForest\\n,\\n \\nneural\\n \\nnetworks\\n \\nwith\\n \\nGloVe\\n \\nembeddings\\n),\\n \\nachieving\\n \\nup\\n \\nto\\n \\n92.86%\\n \\nclassification\\n \\naccuracy\\n \\n●\\n \\nEngineered\\n \\nan\\n \\nefficient\\n \\ndata\\n \\ngeneration\\n \\npipeline\\n \\nusing\\n \\nmodels\\n \\nsuch\\n \\nas\\n \\nGPT-4\\n,\\n \\nGPT-2\\n,\\n \\nMistral\\n,\\n \\nand\\n \\nGemma\\n \\nto\\n \\ngenerate\\n \\nover\\n \\n3,000\\n \\nsynthetic\\n \\nhigh\\n \\nschool\\n \\nessays,\\n \\nsignificantly\\n \\nenhancing\\n \\ndataset\\n \\ndiversity\\n \\nand\\n \\nrobustness\\n \\nfor\\n \\ntraining\\n \\nand\\n \\nanalysis\\n  PUBLICATIONS \\n●\\n \\nK.\\n \\nGoyal,\\n \\nS.\\n \\nGoyal,\\n \\nand\\n \\nS.\\n \\nPratik,\\n \\n“Optimizing\\n \\nHuman\\n \\nActivity\\n \\nRecognition\\n \\nfor\\n \\nResource-Constrained\\n \\nEnvironments\\n \\nUsing\\n \\nRandom\\n \\nForest\\n \\nand\\n \\nFeature\\n \\nSubset\\n \\nSelection,”\\n \\nin\\n \\nProc.\\n \\n7th\\n \\nIEEE\\n \\nSymp.\\n \\nComputers\\n \\n&\\n \\nInformatics\\n \\n(ISCI)\\n,\\n \\nMalaysia,\\n \\nAug.\\n \\n9,\\n \\n2025\\n \\n●\\n \\nK.\\n \\nGoyal,\\n \\nD.\\n \\nMatlani,\\n \\nand\\n \\nS.\\n \\nPratik,\\n \\n“Modelling\\n \\nElectric\\n \\nVehicle\\n \\nEnergy\\n \\nConsumption\\n \\nfor\\n \\nSmart\\n \\nGrid\\n \\nManagement\\n \\nusing\\n \\nAI,”\\n \\nin\\n \\nProc.\\n \\n6th\\n \\nInt.\\n \\nConf.\\n \\nElectrical,\\n \\nCommunication\\n \\nand\\n \\nComputer\\n \\nEngineering\\n \\n(ICECCE)\\n,\\n \\nIstanbul,\\n \\nTurkiye,\\n \\nAug.\\n \\n27–28,\\n \\n2025,\\n \\npp.\\n \\n200\\n \""
            ]
          },
          "execution_count": 29,
          "metadata": {},
          "output_type": "execute_result"
        }
      ],
      "source": [
        "raw_text"
      ]
    },
    {
      "cell_type": "code",
      "execution_count": 30,
      "metadata": {
        "id": "8H0ziYsdHm1w"
      },
      "outputs": [],
      "source": [
        "text_splitter = CharacterTextSplitter(\n",
        "    separator = \"\\n\",\n",
        "    chunk_size = 800,\n",
        "    chunk_overlap = 200,\n",
        "    length_function = len\n",
        ")\n",
        "texts = text_splitter.split_text(raw_text)"
      ]
    },
    {
      "cell_type": "code",
      "execution_count": 31,
      "metadata": {
        "colab": {
          "base_uri": "https://localhost:8080/"
        },
        "id": "ANmNAfH2H-YI",
        "outputId": "f50552ad-82b6-4a0a-ee51-99d1fb8a20ff"
      },
      "outputs": [
        {
          "data": {
            "text/plain": [
              "11"
            ]
          },
          "execution_count": 31,
          "metadata": {},
          "output_type": "execute_result"
        }
      ],
      "source": [
        "len(texts)"
      ]
    },
    {
      "cell_type": "code",
      "execution_count": 32,
      "metadata": {
        "id": "NgN8M2blIDiX"
      },
      "outputs": [],
      "source": [
        "embeddings = OpenAIEmbeddings()\n",
        "document_search = FAISS.from_texts(texts, embeddings)"
      ]
    },
    {
      "cell_type": "code",
      "execution_count": 33,
      "metadata": {
        "colab": {
          "base_uri": "https://localhost:8080/"
        },
        "id": "rR6f_z7PwsLD",
        "outputId": "4e8afef1-6af1-4688-81dd-490b5a8a2f98"
      },
      "outputs": [
        {
          "data": {
            "text/plain": [
              "<langchain_community.vectorstores.faiss.FAISS at 0x7e9f991b0080>"
            ]
          },
          "execution_count": 33,
          "metadata": {},
          "output_type": "execute_result"
        }
      ],
      "source": [
        "document_search"
      ]
    },
    {
      "cell_type": "code",
      "execution_count": 35,
      "metadata": {
        "id": "zeEEO5Kpw32O"
      },
      "outputs": [],
      "source": [
        "from langchain.chains.question_answering import load_qa_chain\n",
        "from langchain.llms import OpenAI"
      ]
    },
    {
      "cell_type": "code",
      "execution_count": 36,
      "metadata": {
        "colab": {
          "base_uri": "https://localhost:8080/"
        },
        "id": "UNRIzzedwupv",
        "outputId": "86277e1a-e7ca-4774-c0b3-fdb4460e9f1c"
      },
      "outputs": [
        {
          "name": "stderr",
          "output_type": "stream",
          "text": [
            "/tmp/ipython-input-3142361053.py:1: LangChainDeprecationWarning: The class `OpenAI` was deprecated in LangChain 0.0.10 and will be removed in 1.0. An updated version of the class exists in the :class:`~langchain-openai package and should be used instead. To use it run `pip install -U :class:`~langchain-openai` and import as `from :class:`~langchain_openai import OpenAI``.\n",
            "  chain = load_qa_chain(OpenAI(), chain_type=\"stuff\")\n",
            "/tmp/ipython-input-3142361053.py:1: LangChainDeprecationWarning: This class is deprecated. See the following migration guides for replacements based on `chain_type`:\n",
            "stuff: https://python.langchain.com/docs/versions/migrating_chains/stuff_docs_chain\n",
            "map_reduce: https://python.langchain.com/docs/versions/migrating_chains/map_reduce_chain\n",
            "refine: https://python.langchain.com/docs/versions/migrating_chains/refine_chain\n",
            "map_rerank: https://python.langchain.com/docs/versions/migrating_chains/map_rerank_docs_chain\n",
            "\n",
            "See also guides on retrieval and question-answering here: https://python.langchain.com/docs/how_to/#qa-with-rag\n",
            "  chain = load_qa_chain(OpenAI(), chain_type=\"stuff\")\n"
          ]
        }
      ],
      "source": [
        "chain = load_qa_chain(OpenAI(), chain_type=\"stuff\")"
      ]
    },
    {
      "cell_type": "code",
      "execution_count": 37,
      "metadata": {
        "colab": {
          "base_uri": "https://localhost:8080/",
          "height": 106
        },
        "id": "QtpU11K1w1mp",
        "outputId": "858a3844-f00c-48ec-9bc0-cdffbb384d7d"
      },
      "outputs": [
        {
          "name": "stderr",
          "output_type": "stream",
          "text": [
            "/tmp/ipython-input-2359923412.py:3: LangChainDeprecationWarning: The method `Chain.run` was deprecated in langchain 0.1.0 and will be removed in 1.0. Use :meth:`~invoke` instead.\n",
            "  chain.run(input_documents=docs, question=query)\n"
          ]
        },
        {
          "data": {
            "application/vnd.google.colaboratory.intrinsic+json": {
              "type": "string"
            },
            "text/plain": [
              "' Surbhit interned at Amphenol Advanced Sensors in Saint Marys, PA as a Software Engineering Intern and at Coal India Ltd in Ranchi, India as a Software Developer Intern.'"
            ]
          },
          "execution_count": 37,
          "metadata": {},
          "output_type": "execute_result"
        }
      ],
      "source": [
        "query = \"Where did Surbhit intern at?\"\n",
        "docs = document_search.similarity_search(query)\n",
        "chain.run(input_documents=docs, question=query)"
      ]
    }
  ],
  "metadata": {
    "colab": {
      "provenance": []
    },
    "kernelspec": {
      "display_name": "Python 3",
      "name": "python3"
    },
    "language_info": {
      "name": "python"
    }
  },
  "nbformat": 4,
  "nbformat_minor": 0
}
